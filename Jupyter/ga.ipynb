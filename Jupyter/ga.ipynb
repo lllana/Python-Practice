{
 "cells": [
  {
   "cell_type": "code",
   "execution_count": 12,
   "metadata": {},
   "outputs": [],
   "source": [
    "import pandas as pd\n",
    "import chart_studio.plotly as py\n",
    "import plotly.graph_objects as go"
   ]
  },
  {
   "cell_type": "code",
   "execution_count": 13,
   "metadata": {},
   "outputs": [],
   "source": [
    "csv_file = 'campaign_events.csv'\n",
    "row_number = 38\n",
    "col_list = ['Campaign', 'Event Action', 'New Users', 'Avg. Session Duration']\n",
    "dwnd_btn = ['Free start click', 'Main \\'Free Start\\' Click', 'Add Player\\' click', 'Upper Download click', 'Lower Download click']\n",
    "\n",
    "def read_file(csv_file):\n",
    "    df = pd.read_csv(csv_file, skiprows = 6, usecols = col_list)\n",
    "    result = df.head(row_number)\n",
    "    \n",
    "    #campaign dictionary form\n",
    "    campaign_dic = {}\n",
    "    for _, row in result.iterrows():\n",
    "        campaign_name = row['Campaign']\n",
    "        action_name = row['Event Action']\n",
    "        new_users = row['New Users']    \n",
    "\n",
    "        if action_name in dwnd_btn:\n",
    "            if campaign_name in campaign_dic:\n",
    "                campaign_dic[campaign_name] += new_users \n",
    "            else:\n",
    "                campaign_dic[campaign_name] = new_users\n",
    "\n",
    "    return campaign_dic\n"
   ]
  },
  {
   "cell_type": "code",
   "execution_count": 14,
   "metadata": {},
   "outputs": [
    {
     "name": "stdout",
     "output_type": "stream",
     "text": [
      "{'29Aug-6Sep': 4.0, 'Insta Bio Free': 2.0, 'Player_Hobby_Sep16': 7.0}\n"
     ]
    }
   ],
   "source": [
    "print(read_file(csv_file))"
   ]
  }
 ],
 "metadata": {
  "kernelspec": {
   "display_name": "python_practice",
   "language": "python",
   "name": "python_practice"
  },
  "language_info": {
   "codemirror_mode": {
    "name": "ipython",
    "version": 3
   },
   "file_extension": ".py",
   "mimetype": "text/x-python",
   "name": "python",
   "nbconvert_exporter": "python",
   "pygments_lexer": "ipython3",
   "version": "3.7.7"
  }
 },
 "nbformat": 4,
 "nbformat_minor": 4
}
