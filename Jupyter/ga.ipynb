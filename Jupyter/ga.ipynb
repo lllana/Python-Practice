{
 "cells": [
  {
   "cell_type": "code",
   "execution_count": 7,
   "metadata": {},
   "outputs": [
    {
     "name": "stdout",
     "output_type": "stream",
     "text": [
      "Requirement already satisfied: pandas in /opt/anaconda3/envs/python_practice/lib/python3.7/site-packages (1.0.5)\n",
      "Requirement already satisfied: chart_studio in /opt/anaconda3/envs/python_practice/lib/python3.7/site-packages (1.1.0)\n",
      "Requirement already satisfied: plotly in /opt/anaconda3/envs/python_practice/lib/python3.7/site-packages (4.11.0)\n",
      "Requirement already satisfied: numpy>=1.13.3 in /opt/anaconda3/envs/python_practice/lib/python3.7/site-packages (from pandas) (1.18.5)\n",
      "Requirement already satisfied: python-dateutil>=2.6.1 in /opt/anaconda3/envs/python_practice/lib/python3.7/site-packages (from pandas) (2.8.1)\n",
      "Requirement already satisfied: pytz>=2017.2 in /opt/anaconda3/envs/python_practice/lib/python3.7/site-packages (from pandas) (2020.1)\n",
      "Requirement already satisfied: six in /opt/anaconda3/envs/python_practice/lib/python3.7/site-packages (from chart_studio) (1.15.0)\n",
      "Requirement already satisfied: retrying>=1.3.3 in /opt/anaconda3/envs/python_practice/lib/python3.7/site-packages (from chart_studio) (1.3.3)\n",
      "Requirement already satisfied: requests in /opt/anaconda3/envs/python_practice/lib/python3.7/site-packages (from chart_studio) (2.24.0)\n",
      "Requirement already satisfied: certifi>=2017.4.17 in /opt/anaconda3/envs/python_practice/lib/python3.7/site-packages (from requests->chart_studio) (2020.6.20)\n",
      "Requirement already satisfied: chardet<4,>=3.0.2 in /opt/anaconda3/envs/python_practice/lib/python3.7/site-packages (from requests->chart_studio) (3.0.4)\n",
      "Requirement already satisfied: urllib3!=1.25.0,!=1.25.1,<1.26,>=1.21.1 in /opt/anaconda3/envs/python_practice/lib/python3.7/site-packages (from requests->chart_studio) (1.25.9)\n",
      "Requirement already satisfied: idna<3,>=2.5 in /opt/anaconda3/envs/python_practice/lib/python3.7/site-packages (from requests->chart_studio) (2.10)\n"
     ]
    }
   ],
   "source": [
    "!pip install pandas chart_studio plotly"
   ]
  },
  {
   "cell_type": "code",
   "execution_count": 8,
   "metadata": {},
   "outputs": [],
   "source": [
    "import pandas as pd\n",
    "import chart_studio.plotly as py\n",
    "import plotly.graph_objects as go"
   ]
  },
  {
   "cell_type": "code",
   "execution_count": 9,
   "metadata": {},
   "outputs": [],
   "source": [
    "csv_file = 'campaign_events.csv'\n",
    "row_number = 38\n",
    "col_list = ['Campaign', 'Event Action', 'New Users', 'Avg. Session Duration']\n",
    "dwnd_btn = ['Free start click', 'Main \\'Free Start\\' Click', 'Add Player\\' click', 'Upper Download click', 'Lower Download click']\n",
    "\n",
    "def read_file(csv_file):\n",
    "    df = pd.read_csv(csv_file, skiprows = 6, usecols = col_list)\n",
    "    result = df.head(row_number)\n",
    "    \n",
    "    #campaign dictionary form\n",
    "    campaign_dic = {}\n",
    "    for _, row in result.iterrows():\n",
    "        campaign_name = row['Campaign']\n",
    "        action_name = row['Event Action']\n",
    "        new_users = row['New Users']    \n",
    "\n",
    "        if action_name in dwnd_btn:\n",
    "            if campaign_name in campaign_dic:\n",
    "                campaign_dic[campaign_name] += new_users \n",
    "            else:\n",
    "                campaign_dic[campaign_name] = new_users\n",
    "\n",
    "    return campaign_dic\n"
   ]
  },
  {
   "cell_type": "code",
   "execution_count": 10,
   "metadata": {},
   "outputs": [
    {
     "name": "stdout",
     "output_type": "stream",
     "text": [
      "{'29Aug-6Sep': 4.0, 'Insta Bio Free': 2.0, 'Player_Hobby_Sep16': 7.0}\n"
     ]
    }
   ],
   "source": [
    "print(read_file(csv_file))"
   ]
  },
  {
   "cell_type": "code",
   "execution_count": null,
   "metadata": {},
   "outputs": [],
   "source": []
  },
  {
   "cell_type": "code",
   "execution_count": null,
   "metadata": {},
   "outputs": [],
   "source": []
  }
 ],
 "metadata": {
  "kernelspec": {
   "display_name": "python_practice",
   "language": "python",
   "name": "python_practice"
  },
  "language_info": {
   "codemirror_mode": {
    "name": "ipython",
    "version": 3
   },
   "file_extension": ".py",
   "mimetype": "text/x-python",
   "name": "python",
   "nbconvert_exporter": "python",
   "pygments_lexer": "ipython3",
   "version": "3.7.7"
  }
 },
 "nbformat": 4,
 "nbformat_minor": 4
}
